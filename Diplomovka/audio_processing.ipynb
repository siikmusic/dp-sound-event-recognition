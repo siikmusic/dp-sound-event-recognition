{
 "cells": [
  {
   "cell_type": "code",
   "execution_count": 1,
   "metadata": {},
   "outputs": [],
   "source": [
    "import wave\n",
    "import numpy as np\n",
    "import matplotlib.pyplot as plt\n",
    "import soundfile\n",
    "from scipy import signal\n",
    "import IPython.display as ipd\n",
    "import librosa, librosa.display\n",
    "import pandas as pd\n",
    "import tensorflow as tf\n",
    "import tensorflow_io as tfio\n",
    "from functions import plot_spectogram,preprocess,plot_wave,calculate_spectogram,normalize_audio\n",
    "from scipy.io import wavfile\n",
    "from audio_globals import n_mels,slice_lenght,overlap\n",
    "import multiprocessing\n",
    "\n"
   ]
  },
  {
   "cell_type": "markdown",
   "metadata": {},
   "source": [
    "# Load data"
   ]
  },
  {
   "cell_type": "code",
   "execution_count": 2,
   "metadata": {},
   "outputs": [],
   "source": [
    "audio_data_df = pd.read_csv(\"audio_data.csv\")\n",
    "class_counts = audio_data_df[\"label\"].value_counts()\n",
    "threshold_min = class_counts.mean()-100  \n",
    "threshold_max = class_counts.mean()+50\n",
    "# Filter out classes with counts less than the threshold\n",
    "filtered_df = audio_data_df[audio_data_df[\"label\"].isin(class_counts[class_counts <= threshold_max].index)]\n",
    "filtered_df = filtered_df[filtered_df[\"label\"].isin(class_counts[class_counts >= threshold_min].index)]\n",
    "filtered_df.to_csv(\"filtered_audio_data.csv\", index=False) "
   ]
  },
  {
   "cell_type": "code",
   "execution_count": 3,
   "metadata": {},
   "outputs": [],
   "source": [
    "filtered_df= pd.read_csv(\"filtered_audio_data.csv\")\n"
   ]
  },
  {
   "cell_type": "code",
   "execution_count": 4,
   "metadata": {},
   "outputs": [
    {
     "data": {
      "text/plain": [
       "dtype('int64')"
      ]
     },
     "execution_count": 4,
     "metadata": {},
     "output_type": "execute_result"
    }
   ],
   "source": [
    "filtered_df['label'].dtype"
   ]
  },
  {
   "cell_type": "code",
   "execution_count": 5,
   "metadata": {},
   "outputs": [
    {
     "ename": "FileNotFoundError",
     "evalue": "[Errno 2] No such file or directory: '/tmp\\\\sound_datasets\\\\fsd50k\\\\FSD50K.dev_audio/329135.wav'",
     "output_type": "error",
     "traceback": [
      "\u001b[1;31m---------------------------------------------------------------------------\u001b[0m",
      "\u001b[1;31mFileNotFoundError\u001b[0m                         Traceback (most recent call last)",
      "\u001b[1;32mc:\\Diplomovka\\Diplomovka\\audio_processing.ipynb Cell 6\u001b[0m line \u001b[0;36m3\n\u001b[0;32m     <a href='vscode-notebook-cell:/c%3A/Diplomovka/Diplomovka/audio_processing.ipynb#W5sZmlsZQ%3D%3D?line=33'>34</a>\u001b[0m output_filename \u001b[39m=\u001b[39m \u001b[39m\"\u001b[39m\u001b[39mprocessed_data.h5\u001b[39m\u001b[39m\"\u001b[39m\n\u001b[0;32m     <a href='vscode-notebook-cell:/c%3A/Diplomovka/Diplomovka/audio_processing.ipynb#W5sZmlsZQ%3D%3D?line=34'>35</a>\u001b[0m i \u001b[39m=\u001b[39m \u001b[39m0\u001b[39m\n\u001b[1;32m---> <a href='vscode-notebook-cell:/c%3A/Diplomovka/Diplomovka/audio_processing.ipynb#W5sZmlsZQ%3D%3D?line=35'>36</a>\u001b[0m \u001b[39mfor\u001b[39;00m batch \u001b[39min\u001b[39;00m batch_generator(filtered_df, batch_size):\n\u001b[0;32m     <a href='vscode-notebook-cell:/c%3A/Diplomovka/Diplomovka/audio_processing.ipynb#W5sZmlsZQ%3D%3D?line=36'>37</a>\u001b[0m     processed_batch \u001b[39m=\u001b[39m batch \u001b[39m# Assuming batch is already processed\u001b[39;00m\n\u001b[0;32m     <a href='vscode-notebook-cell:/c%3A/Diplomovka/Diplomovka/audio_processing.ipynb#W5sZmlsZQ%3D%3D?line=37'>38</a>\u001b[0m     save_to_hdf5(processed_batch, output_filename)\n",
      "\u001b[1;32mc:\\Diplomovka\\Diplomovka\\audio_processing.ipynb Cell 6\u001b[0m line \u001b[0;36m2\n\u001b[0;32m     <a href='vscode-notebook-cell:/c%3A/Diplomovka/Diplomovka/audio_processing.ipynb#W5sZmlsZQ%3D%3D?line=23'>24</a>\u001b[0m \u001b[39mfor\u001b[39;00m i \u001b[39min\u001b[39;00m \u001b[39mrange\u001b[39m(\u001b[39m0\u001b[39m, \u001b[39mlen\u001b[39m(df), batch_size):\n\u001b[0;32m     <a href='vscode-notebook-cell:/c%3A/Diplomovka/Diplomovka/audio_processing.ipynb#W5sZmlsZQ%3D%3D?line=24'>25</a>\u001b[0m     batch_df \u001b[39m=\u001b[39m df[i:i\u001b[39m+\u001b[39mbatch_size]\n\u001b[1;32m---> <a href='vscode-notebook-cell:/c%3A/Diplomovka/Diplomovka/audio_processing.ipynb#W5sZmlsZQ%3D%3D?line=25'>26</a>\u001b[0m     batch_df[\u001b[39m'\u001b[39m\u001b[39mspec_data\u001b[39m\u001b[39m'\u001b[39m] \u001b[39m=\u001b[39m batch_df\u001b[39m.\u001b[39;49mapply(\u001b[39mlambda\u001b[39;49;00m row: process_audio_data(row), axis\u001b[39m=\u001b[39;49m\u001b[39m1\u001b[39;49m)\n\u001b[0;32m     <a href='vscode-notebook-cell:/c%3A/Diplomovka/Diplomovka/audio_processing.ipynb#W5sZmlsZQ%3D%3D?line=26'>27</a>\u001b[0m     \u001b[39myield\u001b[39;00m batch_df\n",
      "File \u001b[1;32mc:\\Users\\there\\AppData\\Local\\Programs\\Python\\Python39\\lib\\site-packages\\pandas\\core\\frame.py:8848\u001b[0m, in \u001b[0;36mDataFrame.apply\u001b[1;34m(self, func, axis, raw, result_type, args, **kwargs)\u001b[0m\n\u001b[0;32m   8837\u001b[0m \u001b[39mfrom\u001b[39;00m \u001b[39mpandas\u001b[39;00m\u001b[39m.\u001b[39;00m\u001b[39mcore\u001b[39;00m\u001b[39m.\u001b[39;00m\u001b[39mapply\u001b[39;00m \u001b[39mimport\u001b[39;00m frame_apply\n\u001b[0;32m   8839\u001b[0m op \u001b[39m=\u001b[39m frame_apply(\n\u001b[0;32m   8840\u001b[0m     \u001b[39mself\u001b[39m,\n\u001b[0;32m   8841\u001b[0m     func\u001b[39m=\u001b[39mfunc,\n\u001b[1;32m   (...)\u001b[0m\n\u001b[0;32m   8846\u001b[0m     kwargs\u001b[39m=\u001b[39mkwargs,\n\u001b[0;32m   8847\u001b[0m )\n\u001b[1;32m-> 8848\u001b[0m \u001b[39mreturn\u001b[39;00m op\u001b[39m.\u001b[39;49mapply()\u001b[39m.\u001b[39m__finalize__(\u001b[39mself\u001b[39m, method\u001b[39m=\u001b[39m\u001b[39m\"\u001b[39m\u001b[39mapply\u001b[39m\u001b[39m\"\u001b[39m)\n",
      "File \u001b[1;32mc:\\Users\\there\\AppData\\Local\\Programs\\Python\\Python39\\lib\\site-packages\\pandas\\core\\apply.py:733\u001b[0m, in \u001b[0;36mFrameApply.apply\u001b[1;34m(self)\u001b[0m\n\u001b[0;32m    730\u001b[0m \u001b[39melif\u001b[39;00m \u001b[39mself\u001b[39m\u001b[39m.\u001b[39mraw:\n\u001b[0;32m    731\u001b[0m     \u001b[39mreturn\u001b[39;00m \u001b[39mself\u001b[39m\u001b[39m.\u001b[39mapply_raw()\n\u001b[1;32m--> 733\u001b[0m \u001b[39mreturn\u001b[39;00m \u001b[39mself\u001b[39;49m\u001b[39m.\u001b[39;49mapply_standard()\n",
      "File \u001b[1;32mc:\\Users\\there\\AppData\\Local\\Programs\\Python\\Python39\\lib\\site-packages\\pandas\\core\\apply.py:857\u001b[0m, in \u001b[0;36mFrameApply.apply_standard\u001b[1;34m(self)\u001b[0m\n\u001b[0;32m    856\u001b[0m \u001b[39mdef\u001b[39;00m \u001b[39mapply_standard\u001b[39m(\u001b[39mself\u001b[39m):\n\u001b[1;32m--> 857\u001b[0m     results, res_index \u001b[39m=\u001b[39m \u001b[39mself\u001b[39;49m\u001b[39m.\u001b[39;49mapply_series_generator()\n\u001b[0;32m    859\u001b[0m     \u001b[39m# wrap results\u001b[39;00m\n\u001b[0;32m    860\u001b[0m     \u001b[39mreturn\u001b[39;00m \u001b[39mself\u001b[39m\u001b[39m.\u001b[39mwrap_results(results, res_index)\n",
      "File \u001b[1;32mc:\\Users\\there\\AppData\\Local\\Programs\\Python\\Python39\\lib\\site-packages\\pandas\\core\\apply.py:873\u001b[0m, in \u001b[0;36mFrameApply.apply_series_generator\u001b[1;34m(self)\u001b[0m\n\u001b[0;32m    870\u001b[0m \u001b[39mwith\u001b[39;00m option_context(\u001b[39m\"\u001b[39m\u001b[39mmode.chained_assignment\u001b[39m\u001b[39m\"\u001b[39m, \u001b[39mNone\u001b[39;00m):\n\u001b[0;32m    871\u001b[0m     \u001b[39mfor\u001b[39;00m i, v \u001b[39min\u001b[39;00m \u001b[39menumerate\u001b[39m(series_gen):\n\u001b[0;32m    872\u001b[0m         \u001b[39m# ignore SettingWithCopy here in case the user mutates\u001b[39;00m\n\u001b[1;32m--> 873\u001b[0m         results[i] \u001b[39m=\u001b[39m \u001b[39mself\u001b[39;49m\u001b[39m.\u001b[39;49mf(v)\n\u001b[0;32m    874\u001b[0m         \u001b[39mif\u001b[39;00m \u001b[39misinstance\u001b[39m(results[i], ABCSeries):\n\u001b[0;32m    875\u001b[0m             \u001b[39m# If we have a view on v, we need to make a copy because\u001b[39;00m\n\u001b[0;32m    876\u001b[0m             \u001b[39m#  series_generator will swap out the underlying data\u001b[39;00m\n\u001b[0;32m    877\u001b[0m             results[i] \u001b[39m=\u001b[39m results[i]\u001b[39m.\u001b[39mcopy(deep\u001b[39m=\u001b[39m\u001b[39mFalse\u001b[39;00m)\n",
      "\u001b[1;32mc:\\Diplomovka\\Diplomovka\\audio_processing.ipynb Cell 6\u001b[0m line \u001b[0;36m2\n\u001b[0;32m     <a href='vscode-notebook-cell:/c%3A/Diplomovka/Diplomovka/audio_processing.ipynb#W5sZmlsZQ%3D%3D?line=23'>24</a>\u001b[0m \u001b[39mfor\u001b[39;00m i \u001b[39min\u001b[39;00m \u001b[39mrange\u001b[39m(\u001b[39m0\u001b[39m, \u001b[39mlen\u001b[39m(df), batch_size):\n\u001b[0;32m     <a href='vscode-notebook-cell:/c%3A/Diplomovka/Diplomovka/audio_processing.ipynb#W5sZmlsZQ%3D%3D?line=24'>25</a>\u001b[0m     batch_df \u001b[39m=\u001b[39m df[i:i\u001b[39m+\u001b[39mbatch_size]\n\u001b[1;32m---> <a href='vscode-notebook-cell:/c%3A/Diplomovka/Diplomovka/audio_processing.ipynb#W5sZmlsZQ%3D%3D?line=25'>26</a>\u001b[0m     batch_df[\u001b[39m'\u001b[39m\u001b[39mspec_data\u001b[39m\u001b[39m'\u001b[39m] \u001b[39m=\u001b[39m batch_df\u001b[39m.\u001b[39mapply(\u001b[39mlambda\u001b[39;00m row: process_audio_data(row), axis\u001b[39m=\u001b[39m\u001b[39m1\u001b[39m)\n\u001b[0;32m     <a href='vscode-notebook-cell:/c%3A/Diplomovka/Diplomovka/audio_processing.ipynb#W5sZmlsZQ%3D%3D?line=26'>27</a>\u001b[0m     \u001b[39myield\u001b[39;00m batch_df\n",
      "\u001b[1;32mc:\\Diplomovka\\Diplomovka\\audio_processing.ipynb Cell 6\u001b[0m line \u001b[0;36m1\n\u001b[0;32m     <a href='vscode-notebook-cell:/c%3A/Diplomovka/Diplomovka/audio_processing.ipynb#W5sZmlsZQ%3D%3D?line=10'>11</a>\u001b[0m \u001b[39mdef\u001b[39;00m \u001b[39mprocess_audio_data\u001b[39m(row, max_slices\u001b[39m=\u001b[39m\u001b[39m10\u001b[39m):\n\u001b[1;32m---> <a href='vscode-notebook-cell:/c%3A/Diplomovka/Diplomovka/audio_processing.ipynb#W5sZmlsZQ%3D%3D?line=11'>12</a>\u001b[0m     sampling_rate, data \u001b[39m=\u001b[39m wavfile\u001b[39m.\u001b[39;49mread(row[\u001b[39m\"\u001b[39;49m\u001b[39mpath\u001b[39;49m\u001b[39m\"\u001b[39;49m])\n\u001b[0;32m     <a href='vscode-notebook-cell:/c%3A/Diplomovka/Diplomovka/audio_processing.ipynb#W5sZmlsZQ%3D%3D?line=12'>13</a>\u001b[0m     spectogram_blocks \u001b[39m=\u001b[39m []\n\u001b[0;32m     <a href='vscode-notebook-cell:/c%3A/Diplomovka/Diplomovka/audio_processing.ipynb#W5sZmlsZQ%3D%3D?line=13'>14</a>\u001b[0m     \u001b[39mfor\u001b[39;00m start \u001b[39min\u001b[39;00m \u001b[39mrange\u001b[39m(\u001b[39m0\u001b[39m, \u001b[39mlen\u001b[39m(data), slice_lenght):\n",
      "File \u001b[1;32mc:\\Users\\there\\AppData\\Local\\Programs\\Python\\Python39\\lib\\site-packages\\scipy\\io\\wavfile.py:647\u001b[0m, in \u001b[0;36mread\u001b[1;34m(filename, mmap)\u001b[0m\n\u001b[0;32m    645\u001b[0m     mmap \u001b[39m=\u001b[39m \u001b[39mFalse\u001b[39;00m\n\u001b[0;32m    646\u001b[0m \u001b[39melse\u001b[39;00m:\n\u001b[1;32m--> 647\u001b[0m     fid \u001b[39m=\u001b[39m \u001b[39mopen\u001b[39;49m(filename, \u001b[39m'\u001b[39;49m\u001b[39mrb\u001b[39;49m\u001b[39m'\u001b[39;49m)\n\u001b[0;32m    649\u001b[0m \u001b[39mtry\u001b[39;00m:\n\u001b[0;32m    650\u001b[0m     file_size, is_big_endian \u001b[39m=\u001b[39m _read_riff_chunk(fid)\n",
      "\u001b[1;31mFileNotFoundError\u001b[0m: [Errno 2] No such file or directory: '/tmp\\\\sound_datasets\\\\fsd50k\\\\FSD50K.dev_audio/329135.wav'"
     ]
    }
   ],
   "source": [
    "import h5py\n",
    "\n",
    "def save_to_hdf5(batch, filename):\n",
    "    with h5py.File(filename, 'a') as h5file:\n",
    "        for i, row in batch.iterrows():\n",
    "            grp = h5file.create_group(str(i))\n",
    "            grp.create_dataset(\"label\", data=np.array(row['label'], dtype='int64'))\n",
    "            grp.create_dataset(\"path\", data=np.string_(row['path']))\n",
    "            grp.create_dataset(\"spec_data\", data=row['spec_data'])\n",
    "\n",
    "def process_audio_data(row, max_slices=10):\n",
    "    sampling_rate, data = wavfile.read(row[\"path\"])\n",
    "    spectogram_blocks = []\n",
    "    for start in range(0, len(data), slice_lenght):\n",
    "        end = min(start + slice_lenght, len(data))\n",
    "        block = data[start:end]\n",
    "        spectogram_block_single, _ = preprocess(block, row['label'], sampling_rate, n_mels, slice_lenght)\n",
    "        spectogram_blocks.append(spectogram_block_single.numpy())\n",
    "        if len(spectogram_blocks) >= max_slices:\n",
    "            break\n",
    "    return spectogram_blocks\n",
    "\n",
    "def batch_generator(df, batch_size):\n",
    "    for i in range(0, len(df), batch_size):\n",
    "        batch_df = df[i:i+batch_size]\n",
    "        batch_df['spec_data'] = batch_df.apply(lambda row: process_audio_data(row), axis=1)\n",
    "        yield batch_df\n",
    "def save_to_csv(batch, filename, mode='a'):\n",
    "    # Append batch to a CSV file\n",
    "    batch.to_csv(filename, mode=mode, header=not bool(mode == 'a'), index=False)\n",
    "\n",
    "# Define batch size based on your memory constraints\n",
    "batch_size = 100\n",
    "output_filename = \"processed_data.h5\"\n",
    "i = 0\n",
    "for batch in batch_generator(filtered_df, batch_size):\n",
    "    processed_batch = batch # Assuming batch is already processed\n",
    "    save_to_hdf5(processed_batch, output_filename)\n",
    "    print(\"Batch done:\",i)\n",
    "    i+=1\n",
    "    \n",
    "print(\"Data processing and saving completed.\")"
   ]
  },
  {
   "cell_type": "markdown",
   "metadata": {},
   "source": [
    "# Train test split"
   ]
  },
  {
   "cell_type": "code",
   "execution_count": 12,
   "metadata": {},
   "outputs": [],
   "source": [
    "train, validate, test = np.split(filtered_df.sample(frac=1, random_state=42), [int(.6*len(filtered_df)), int(.8*len(filtered_df))])"
   ]
  },
  {
   "cell_type": "code",
   "execution_count": 50,
   "metadata": {},
   "outputs": [
    {
     "ename": "KeyboardInterrupt",
     "evalue": "",
     "output_type": "error",
     "traceback": [
      "\u001b[1;31m---------------------------------------------------------------------------\u001b[0m",
      "\u001b[1;31mKeyboardInterrupt\u001b[0m                         Traceback (most recent call last)",
      "\u001b[1;32me:\\Programko\\Diplomovka\\audio_processing.ipynb Cell 9\u001b[0m line \u001b[0;36m1\n\u001b[0;32m     <a href='vscode-notebook-cell:/e%3A/Programko/Diplomovka/audio_processing.ipynb#X10sZmlsZQ%3D%3D?line=11'>12</a>\u001b[0m             all_data\u001b[39m.\u001b[39mappend(data)\n\u001b[0;32m     <a href='vscode-notebook-cell:/e%3A/Programko/Diplomovka/audio_processing.ipynb#X10sZmlsZQ%3D%3D?line=12'>13</a>\u001b[0m         \u001b[39mreturn\u001b[39;00m pd\u001b[39m.\u001b[39mDataFrame(all_data)\n\u001b[1;32m---> <a href='vscode-notebook-cell:/e%3A/Programko/Diplomovka/audio_processing.ipynb#X10sZmlsZQ%3D%3D?line=14'>15</a>\u001b[0m loaded_data \u001b[39m=\u001b[39m load_from_hdf5(\u001b[39m\"\u001b[39m\u001b[39mprocessed_data.h5\u001b[39m\u001b[39m\"\u001b[39m)\n",
      "\u001b[1;32me:\\Programko\\Diplomovka\\audio_processing.ipynb Cell 9\u001b[0m line \u001b[0;36m1\n\u001b[0;32m      <a href='vscode-notebook-cell:/e%3A/Programko/Diplomovka/audio_processing.ipynb#X10sZmlsZQ%3D%3D?line=3'>4</a>\u001b[0m \u001b[39mfor\u001b[39;00m group_key \u001b[39min\u001b[39;00m h5file\u001b[39m.\u001b[39mkeys():\n\u001b[0;32m      <a href='vscode-notebook-cell:/e%3A/Programko/Diplomovka/audio_processing.ipynb#X10sZmlsZQ%3D%3D?line=4'>5</a>\u001b[0m     group \u001b[39m=\u001b[39m h5file[group_key]\n\u001b[0;32m      <a href='vscode-notebook-cell:/e%3A/Programko/Diplomovka/audio_processing.ipynb#X10sZmlsZQ%3D%3D?line=5'>6</a>\u001b[0m     data \u001b[39m=\u001b[39m {\n\u001b[0;32m      <a href='vscode-notebook-cell:/e%3A/Programko/Diplomovka/audio_processing.ipynb#X10sZmlsZQ%3D%3D?line=6'>7</a>\u001b[0m         \u001b[39m# Decode strings from UTF-8\u001b[39;00m\n\u001b[0;32m      <a href='vscode-notebook-cell:/e%3A/Programko/Diplomovka/audio_processing.ipynb#X10sZmlsZQ%3D%3D?line=7'>8</a>\u001b[0m         \u001b[39m'\u001b[39m\u001b[39mlabel\u001b[39m\u001b[39m'\u001b[39m: np\u001b[39m.\u001b[39marray(group[\u001b[39m'\u001b[39m\u001b[39mlabel\u001b[39m\u001b[39m'\u001b[39m])\u001b[39m.\u001b[39mtobytes()\u001b[39m.\u001b[39mdecode(\u001b[39m'\u001b[39m\u001b[39mutf-8\u001b[39m\u001b[39m'\u001b[39m),\n\u001b[0;32m      <a href='vscode-notebook-cell:/e%3A/Programko/Diplomovka/audio_processing.ipynb#X10sZmlsZQ%3D%3D?line=8'>9</a>\u001b[0m         \u001b[39m'\u001b[39m\u001b[39mpath\u001b[39m\u001b[39m'\u001b[39m: np\u001b[39m.\u001b[39marray(group[\u001b[39m'\u001b[39m\u001b[39mpath\u001b[39m\u001b[39m'\u001b[39m])\u001b[39m.\u001b[39mtobytes()\u001b[39m.\u001b[39mdecode(\u001b[39m'\u001b[39m\u001b[39mutf-8\u001b[39m\u001b[39m'\u001b[39m),\n\u001b[1;32m---> <a href='vscode-notebook-cell:/e%3A/Programko/Diplomovka/audio_processing.ipynb#X10sZmlsZQ%3D%3D?line=9'>10</a>\u001b[0m         \u001b[39m'\u001b[39m\u001b[39mspec_data\u001b[39m\u001b[39m'\u001b[39m: np\u001b[39m.\u001b[39;49marray(group[\u001b[39m'\u001b[39;49m\u001b[39mspec_data\u001b[39;49m\u001b[39m'\u001b[39;49m])\n\u001b[0;32m     <a href='vscode-notebook-cell:/e%3A/Programko/Diplomovka/audio_processing.ipynb#X10sZmlsZQ%3D%3D?line=10'>11</a>\u001b[0m     }\n\u001b[0;32m     <a href='vscode-notebook-cell:/e%3A/Programko/Diplomovka/audio_processing.ipynb#X10sZmlsZQ%3D%3D?line=11'>12</a>\u001b[0m     all_data\u001b[39m.\u001b[39mappend(data)\n\u001b[0;32m     <a href='vscode-notebook-cell:/e%3A/Programko/Diplomovka/audio_processing.ipynb#X10sZmlsZQ%3D%3D?line=12'>13</a>\u001b[0m \u001b[39mreturn\u001b[39;00m pd\u001b[39m.\u001b[39mDataFrame(all_data)\n",
      "File \u001b[1;32mh5py\\_objects.pyx:54\u001b[0m, in \u001b[0;36mh5py._objects.with_phil.wrapper\u001b[1;34m()\u001b[0m\n",
      "File \u001b[1;32mh5py\\_objects.pyx:55\u001b[0m, in \u001b[0;36mh5py._objects.with_phil.wrapper\u001b[1;34m()\u001b[0m\n",
      "File \u001b[1;32mc:\\Users\\there\\AppData\\Local\\Programs\\Python\\Python39\\lib\\site-packages\\h5py\\_hl\\dataset.py:1046\u001b[0m, in \u001b[0;36mDataset.__array__\u001b[1;34m(self, dtype)\u001b[0m\n\u001b[0;32m   1043\u001b[0m \u001b[39mif\u001b[39;00m numpy\u001b[39m.\u001b[39mproduct(\u001b[39mself\u001b[39m\u001b[39m.\u001b[39mshape, dtype\u001b[39m=\u001b[39mnumpy\u001b[39m.\u001b[39mulonglong) \u001b[39m==\u001b[39m \u001b[39m0\u001b[39m:\n\u001b[0;32m   1044\u001b[0m     \u001b[39mreturn\u001b[39;00m arr\n\u001b[1;32m-> 1046\u001b[0m \u001b[39mself\u001b[39;49m\u001b[39m.\u001b[39;49mread_direct(arr)\n\u001b[0;32m   1047\u001b[0m \u001b[39mreturn\u001b[39;00m arr\n",
      "File \u001b[1;32mc:\\Users\\there\\AppData\\Local\\Programs\\Python\\Python39\\lib\\site-packages\\h5py\\_hl\\dataset.py:1007\u001b[0m, in \u001b[0;36mDataset.read_direct\u001b[1;34m(self, dest, source_sel, dest_sel)\u001b[0m\n\u001b[0;32m   1004\u001b[0m     dest_sel \u001b[39m=\u001b[39m sel\u001b[39m.\u001b[39mselect(dest\u001b[39m.\u001b[39mshape, dest_sel)\n\u001b[0;32m   1006\u001b[0m \u001b[39mfor\u001b[39;00m mspace \u001b[39min\u001b[39;00m dest_sel\u001b[39m.\u001b[39mbroadcast(source_sel\u001b[39m.\u001b[39marray_shape):\n\u001b[1;32m-> 1007\u001b[0m     \u001b[39mself\u001b[39;49m\u001b[39m.\u001b[39;49mid\u001b[39m.\u001b[39;49mread(mspace, fspace, dest, dxpl\u001b[39m=\u001b[39;49m\u001b[39mself\u001b[39;49m\u001b[39m.\u001b[39;49m_dxpl)\n",
      "\u001b[1;31mKeyboardInterrupt\u001b[0m: "
     ]
    }
   ],
   "source": [
    "def load_from_hdf5(filename):\n",
    "    with h5py.File(filename, 'r') as h5file:\n",
    "        all_data = []\n",
    "        for group_key in h5file.keys():\n",
    "            group = h5file[group_key]\n",
    "            data = {\n",
    "                # Load label as int64\n",
    "                'label': np.array(group['label']).astype('int64'),\n",
    "                'path': np.array(group['path']).tobytes().decode('utf-8'),\n",
    "                'spec_data': np.array(group['spec_data'])\n",
    "            }\n",
    "            all_data.append(data)\n",
    "        return pd.DataFrame(all_data)\n",
    "\n",
    "loaded_data = load_from_hdf5(\"processed_data.h5\")"
   ]
  },
  {
   "cell_type": "code",
   "execution_count": 49,
   "metadata": {},
   "outputs": [
    {
     "data": {
      "text/plain": [
       "'\\x00\\x00\\x00\\x00\\x00\\x00\\x00\\x00\\x00\\x00\\x00\\x00\\x00\\x00\\x00\\x00\\x00\\x00\\x00\\x00\\x00\\x00\\x00\\x00\\x00\\x00\\x00\\x00\\x00\\x00\\x00\\x00\\x00\\x00\\x00\\x00\\x00\\x00\\x00\\x00\\x00'"
      ]
     },
     "execution_count": 49,
     "metadata": {},
     "output_type": "execute_result"
    }
   ],
   "source": [
    "loaded_data.head(n=50)\n",
    "\n",
    "first_row = loaded_data.iloc[1]\n",
    "\n",
    "\n",
    "first_row['label']"
   ]
  }
 ],
 "metadata": {
  "kernelspec": {
   "display_name": "Python 3",
   "language": "python",
   "name": "python3"
  },
  "language_info": {
   "codemirror_mode": {
    "name": "ipython",
    "version": 3
   },
   "file_extension": ".py",
   "mimetype": "text/x-python",
   "name": "python",
   "nbconvert_exporter": "python",
   "pygments_lexer": "ipython3",
   "version": "3.9.10"
  }
 },
 "nbformat": 4,
 "nbformat_minor": 2
}
